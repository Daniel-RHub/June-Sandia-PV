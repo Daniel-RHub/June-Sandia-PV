{
  "cells": [
    {
      "metadata": {
        "collapsed": true
      },
      "cell_type": "markdown",
      "source": "# pvlib-Python Forecasting (Albuquerque, NM)\n### Install Standard Release "
    },
    {
      "metadata": {
        "trusted": true
      },
      "cell_type": "code",
      "source": "# pip Upgrade\n!pip install --upgrade pip",
      "execution_count": 1,
      "outputs": [
        {
          "output_type": "stream",
          "text": "Requirement already up-to-date: pip in /home/nbuser/anaconda3_501/lib/python3.6/site-packages (20.1.1)\r\n",
          "name": "stdout"
        }
      ]
    },
    {
      "metadata": {
        "trusted": true
      },
      "cell_type": "code",
      "source": "# Package from the Python Package Index\n!pip install pvlib\n\n# Module netCDF4 was not found \n!pip install netCDF4\n\n# Module siphon was not found\n!pip install siphon\n\n# 4/20/2020: version 1.1.2 released. Code optimization, fix logic so only_use_cftime_datimes=False works as expected (issues #158 and #165). \n!pip install cftime==1.1.2\n\n\n# Try to save Excel\n!pip install openpyxl",
      "execution_count": 2,
      "outputs": [
        {
          "output_type": "stream",
          "text": "Requirement already satisfied: pvlib in /home/nbuser/anaconda3_501/lib/python3.6/site-packages (0.7.2)\nRequirement already satisfied: numpy>=1.12.0 in /home/nbuser/anaconda3_501/lib/python3.6/site-packages (from pvlib) (1.16.2)\nRequirement already satisfied: pytz in /home/nbuser/anaconda3_501/lib/python3.6/site-packages (from pvlib) (2019.3)\nRequirement already satisfied: pandas>=0.18.1 in /home/nbuser/anaconda3_501/lib/python3.6/site-packages (from pvlib) (0.23.4)\nRequirement already satisfied: requests in /home/nbuser/anaconda3_501/lib/python3.6/site-packages (from pvlib) (2.22.0)\nRequirement already satisfied: python-dateutil>=2.5.0 in /home/nbuser/anaconda3_501/lib/python3.6/site-packages (from pandas>=0.18.1->pvlib) (2.8.1)\nRequirement already satisfied: certifi>=2017.4.17 in /home/nbuser/anaconda3_501/lib/python3.6/site-packages (from requests->pvlib) (2018.10.15)\nRequirement already satisfied: chardet<3.1.0,>=3.0.2 in /home/nbuser/anaconda3_501/lib/python3.6/site-packages (from requests->pvlib) (3.0.4)\nRequirement already satisfied: urllib3!=1.25.0,!=1.25.1,<1.26,>=1.21.1 in /home/nbuser/anaconda3_501/lib/python3.6/site-packages (from requests->pvlib) (1.23)\nRequirement already satisfied: idna<2.9,>=2.5 in /home/nbuser/anaconda3_501/lib/python3.6/site-packages (from requests->pvlib) (2.7)\nRequirement already satisfied: six>=1.5 in /home/nbuser/anaconda3_501/lib/python3.6/site-packages (from python-dateutil>=2.5.0->pandas>=0.18.1->pvlib) (1.11.0)\nRequirement already satisfied: netCDF4 in /home/nbuser/anaconda3_501/lib/python3.6/site-packages (1.5.3)\nRequirement already satisfied: cftime in /home/nbuser/anaconda3_501/lib/python3.6/site-packages (from netCDF4) (1.1.2)\nRequirement already satisfied: numpy>=1.7 in /home/nbuser/anaconda3_501/lib/python3.6/site-packages (from netCDF4) (1.16.2)\nRequirement already satisfied: siphon in /home/nbuser/anaconda3_501/lib/python3.6/site-packages (0.8.0)\nRequirement already satisfied: requests>=1.2 in /home/nbuser/anaconda3_501/lib/python3.6/site-packages (from siphon) (2.22.0)\nRequirement already satisfied: pandas in /home/nbuser/anaconda3_501/lib/python3.6/site-packages (from siphon) (0.23.4)\nRequirement already satisfied: beautifulsoup4>=4.6 in /home/nbuser/anaconda3_501/lib/python3.6/site-packages (from siphon) (4.6.3)\nRequirement already satisfied: numpy>=1.8 in /home/nbuser/anaconda3_501/lib/python3.6/site-packages (from siphon) (1.16.2)\nRequirement already satisfied: protobuf>=3.0.0a3 in /home/nbuser/anaconda3_501/lib/python3.6/site-packages (from siphon) (3.10.0)\nRequirement already satisfied: idna<2.9,>=2.5 in /home/nbuser/anaconda3_501/lib/python3.6/site-packages (from requests>=1.2->siphon) (2.7)\nRequirement already satisfied: certifi>=2017.4.17 in /home/nbuser/anaconda3_501/lib/python3.6/site-packages (from requests>=1.2->siphon) (2018.10.15)\nRequirement already satisfied: urllib3!=1.25.0,!=1.25.1,<1.26,>=1.21.1 in /home/nbuser/anaconda3_501/lib/python3.6/site-packages (from requests>=1.2->siphon) (1.23)\nRequirement already satisfied: chardet<3.1.0,>=3.0.2 in /home/nbuser/anaconda3_501/lib/python3.6/site-packages (from requests>=1.2->siphon) (3.0.4)\nRequirement already satisfied: pytz>=2011k in /home/nbuser/anaconda3_501/lib/python3.6/site-packages (from pandas->siphon) (2019.3)\nRequirement already satisfied: python-dateutil>=2.5.0 in /home/nbuser/anaconda3_501/lib/python3.6/site-packages (from pandas->siphon) (2.8.1)\nRequirement already satisfied: six>=1.9 in /home/nbuser/anaconda3_501/lib/python3.6/site-packages (from protobuf>=3.0.0a3->siphon) (1.11.0)\nRequirement already satisfied: setuptools in /home/nbuser/anaconda3_501/lib/python3.6/site-packages (from protobuf>=3.0.0a3->siphon) (41.6.0)\nRequirement already satisfied: cftime==1.1.2 in /home/nbuser/anaconda3_501/lib/python3.6/site-packages (1.1.2)\nRequirement already satisfied: numpy in /home/nbuser/anaconda3_501/lib/python3.6/site-packages (from cftime==1.1.2) (1.16.2)\nRequirement already satisfied: openpyxl in /home/nbuser/anaconda3_501/lib/python3.6/site-packages (2.5.8)\nRequirement already satisfied: jdcal in /home/nbuser/anaconda3_501/lib/python3.6/site-packages (from openpyxl) (1.4)\nRequirement already satisfied: et-xmlfile in /home/nbuser/anaconda3_501/lib/python3.6/site-packages (from openpyxl) (1.0.1)\n",
          "name": "stdout"
        }
      ]
    },
    {
      "metadata": {
        "trusted": true
      },
      "cell_type": "code",
      "source": "# Make basic imports and then set the location and time range data\nimport pandas as pd\nimport numpy as np\nimport matplotlib.pyplot as plt\nimport pytz\nimport seaborn as sns; sns.set_color_codes()\nimport datetime\n\n# Import pvlib forecast models\nfrom pvlib.forecast import GFS, NAM, NDFD, HRRR, RAP\nfrom pvlib import solarposition\nfrom pvlib.location import Location\nfrom matplotlib.pyplot import figure\n%matplotlib inline\n\n# Specify Location (Albuiquerque, NM)\nlatitude, longitude, tz = 35, -106.6, 'US/Mountain'\n\n# Specify time range\nstart = pd.Timestamp(datetime.date.fromordinal(737596), tz=tz)\nend = start + pd.Timedelta(days=1)\nirrad_vars = ['ghi','dni','dhi']",
      "execution_count": null,
      "outputs": []
    },
    {
      "metadata": {},
      "cell_type": "markdown",
      "source": "### Create Model"
    },
    {
      "metadata": {
        "trusted": true
      },
      "cell_type": "code",
      "source": "# GFS model, defaults to 0.5 degree resolution\n# 0.25 deg available \nmodel = GFS() \n\n# Retrive data.returns panda.DataFrame object\nraw_data = model.get_data(latitude, longitude, start, end)\nprint(raw_data.head())",
      "execution_count": null,
      "outputs": []
    },
    {
      "metadata": {},
      "cell_type": "markdown",
      "source": "### Process Data with pvlib"
    },
    {
      "metadata": {
        "trusted": true
      },
      "cell_type": "code",
      "source": "# Process this data before using it with pvlib\ndata = raw_data\n\n# Rename the columns according the key/value pairs in model.variables.\ndata = model.rename(data)\n\n# Convert temperature\ndata['temp_air'] = model.kelvin_to_celsius(data['temp_air'])\n\n# Convert wind components to wind speed\ndata['wind_speed'] = model.uv_to_speed(data)\n\n# Calculate irradiance estimates from cloud cover.\nirrad_data = model.cloud_cover_to_irradiance(data['total_clouds'])\ndata = data.join(irrad_data, how='outer')\n\n# Keep only the final data\ndata = data[model.output_variables]\n\nprint(data.head())",
      "execution_count": null,
      "outputs": []
    },
    {
      "metadata": {},
      "cell_type": "markdown",
      "source": "### GFS'S Class"
    },
    {
      "metadata": {
        "trusted": true
      },
      "cell_type": "code",
      "source": "# process_data method combines these steps in a single function\ndata = model.process_data(raw_data)\nprint(data.head())\n\n# Implement their own process_data methods on inherited classes or implement similar stand-alone functions\n# Also implement a get_processed_data() method that combines the get_data() and process_data() calls\ndata = model.get_processed_data(latitude, longitude, start, end)\nprint(data.head())",
      "execution_count": null,
      "outputs": []
    },
    {
      "metadata": {},
      "cell_type": "markdown",
      "source": "## Cloud Cover & Radiation"
    },
    {
      "metadata": {
        "trusted": true
      },
      "cell_type": "code",
      "source": "# Plot cloud cover percentages\ncloud_vars = ['total_clouds', 'low_clouds','mid_clouds', 'high_clouds']\ndata[cloud_vars].plot(figsize=(15,10));\nplt.ylabel('Cloud cover %');\nplt.xlabel('Forecast Time ({})'.format(tz));\nplt.title('GFS 0.5 deg forecast for lat={}, lon={}'.format(latitude, longitude));\nplt.legend();",
      "execution_count": null,
      "outputs": []
    },
    {
      "metadata": {
        "trusted": true
      },
      "cell_type": "code",
      "source": "# Plot irradiance data\ndata = model.rename(raw_data)\nirrads = model.cloud_cover_to_irradiance(data['total_clouds'], how='clearsky_scaling')\nirrads.plot(figsize=(15,10));\nplt.ylabel('Irradiance ($W/m^2$)');\nplt.xlabel('Forecast Time ({})'.format(tz));\nplt.title('GFS 0.5 deg forecast for lat={}, lon={} using \"clearsky_scaling\"'.format(latitude, longitude));\nplt.legend();",
      "execution_count": null,
      "outputs": []
    },
    {
      "metadata": {
        "trusted": true
      },
      "cell_type": "code",
      "source": "# Plot irradiance data\n# Irradiance forecast one hour resolution as the weather data\nirrads = model.cloud_cover_to_irradiance(data['total_clouds'], how='liujordan')\nirrads.plot(figsize=(15,10));\nplt.ylabel('Irradiance ($W/m^2$)');\nplt.xlabel('Forecast Time ({})'.format(tz));\nplt.title('GFS 0.5 deg forecast for lat={}, lon={} using \"liujordan\"'.format(latitude, longitude));\nplt.legend();",
      "execution_count": null,
      "outputs": []
    },
    {
      "metadata": {
        "trusted": true
      },
      "cell_type": "code",
      "source": "# Five min data resample\nresampled_data = data.resample('5min').interpolate()\nresampled_irrads = model.cloud_cover_to_irradiance(resampled_data['total_clouds'], how='clearsky_scaling')\nresampled_irrads.plot(figsize=(15,10));\nplt.ylabel('Irradiance ($W/m^2$)');\nplt.xlabel('Forecast Time ({})'.format(tz));\nplt.title('GFS 0.5 deg forecast for lat={}, lon={} resampled'.format(latitude,longitude));\nplt.legend();",
      "execution_count": null,
      "outputs": []
    },
    {
      "metadata": {},
      "cell_type": "markdown",
      "source": "## Weather Models\n### GFS\nThe Global Forecast System is the US model that provides forecast for the entire globe (6hr update)\n### HRRR"
    },
    {
      "metadata": {
        "trusted": true
      },
      "cell_type": "code",
      "source": "# High Resolution Rapid Refresh most accurate\n# Only available for 15 hours\nmodel = HRRR()\ndata = model.get_processed_data(latitude, longitude, start, end)\ndata[irrad_vars].plot(figsize=(15,10));\nplt.ylabel('Irradiance ($W/m^2$)');\nplt.xlabel('Forecast Time ({})'.format(tz));\nplt.title('HRRR 3 km forecast for lat={}, lon={}'.format(latitude, longitude));\nplt.legend();",
      "execution_count": null,
      "outputs": []
    },
    {
      "metadata": {
        "trusted": true
      },
      "cell_type": "code",
      "source": "hrrr_data=data[irrad_vars]\nhrrr_data.describe()",
      "execution_count": null,
      "outputs": []
    },
    {
      "metadata": {},
      "cell_type": "markdown",
      "source": "### RAP"
    },
    {
      "metadata": {
        "trusted": true
      },
      "cell_type": "code",
      "source": "# The Rapid Refresh model is the parent model for the HRRR\n# Updated every hour with a 20, 40 km resolution\nmodel = RAP()\ndata = model.get_processed_data(latitude, longitude, start, end)\ndata[irrad_vars].plot(figsize=(15,10));\nplt.ylabel('Irradiance ($W/m^2$)');\nplt.xlabel('Forecast Time ({})'.format(tz));\nplt.title('RAP 13 km forecast for lat={}, lon={}'.format(latitude, longitude));\nplt.legend();",
      "execution_count": null,
      "outputs": []
    },
    {
      "metadata": {},
      "cell_type": "markdown",
      "source": "### NDFD"
    },
    {
      "metadata": {
        "trusted": true
      },
      "cell_type": "code",
      "source": "# The National Digital Forecast Database is not a model\n# Is a collection of forecasts made by National Weather Service offices accross the country\n# Updated every six hours\n# Only available for the US\nmodel = NDFD()\ndata = model.get_processed_data(latitude, longitude, start, end)\ndata[irrad_vars].plot(figsize=(15,10));\nplt.ylabel('Irradiance ($W/m^2$)');\nplt.xlabel('Forecast Time ({})'.format(tz));\nplt.title('NDFD forecast for lat={}, lon={}'.format(latitude, longitude));\nplt.legend();",
      "execution_count": null,
      "outputs": []
    },
    {
      "metadata": {
        "trusted": true,
        "scrolled": true
      },
      "cell_type": "code",
      "source": "ndfd_data=data[irrad_vars]\nndfd_data.describe()",
      "execution_count": null,
      "outputs": []
    },
    {
      "metadata": {},
      "cell_type": "markdown",
      "source": "# PV Power Forecast - HRRR"
    },
    {
      "metadata": {
        "trusted": true
      },
      "cell_type": "code",
      "source": "from pvlib.pvsystem import PVSystem, retrieve_sam\nfrom pvlib.temperature import TEMPERATURE_MODEL_PARAMETERS\nfrom pvlib.tracking import SingleAxisTracker\nfrom pvlib.modelchain import ModelChain\nfrom pvlib import pvsystem\n\nsandia_modules = retrieve_sam('sandiamod')\ncec_inverters = retrieve_sam('cecinverter')\nmodule = sandia_modules['Canadian_Solar_CS5P_220M___2009_']\ninverter = cec_inverters['iPower__SHO_5_2__240V_']\ntemperature_model_parameters = TEMPERATURE_MODEL_PARAMETERS['sapm']['open_rack_glass_glass']\n\n# model a big tracker for more fun\nsystem = pvsystem.PVSystem(module_parameters=module, inverter_parameters=inverter, temperature_model_parameters=temperature_model_parameters, modules_per_string=14, strings_per_inverter=1)\n\n# fx is a common abbreviation for forecast\nfx_model = HRRR()\nfx_data = fx_model.get_processed_data(latitude, longitude, start, end)\nac_data = fx_data.resample('5min').interpolate()\n\n# use a ModelChain object to calculate modeling intermediates\nmc = ModelChain(system, fx_model.location)\n\n# extract relevant data for model chain\nmc.run_model(ac_data)",
      "execution_count": null,
      "outputs": []
    },
    {
      "metadata": {
        "trusted": true
      },
      "cell_type": "code",
      "source": "invdb = pvsystem.retrieve_sam('CECInverter')\ninvdb",
      "execution_count": null,
      "outputs": []
    },
    {
      "metadata": {},
      "cell_type": "markdown",
      "source": "## ModelChain Attributes"
    },
    {
      "metadata": {
        "trusted": true
      },
      "cell_type": "code",
      "source": "# ModelChain sotres modeling results on a series of attributes. \n# Angle of Incidence\nmc.aoi.fillna(0).plot(figsize=(20,15));\nplt.ylim(0, None);\nplt.ylabel('Angle');",
      "execution_count": null,
      "outputs": []
    },
    {
      "metadata": {},
      "cell_type": "markdown",
      "source": "## Modeling intermediates & Forecast power"
    },
    {
      "metadata": {
        "trusted": true
      },
      "cell_type": "code",
      "source": "mc.total_irrad.plot(figsize=(25,20));\nplt.ylabel('Plane of array irradiance ($W/m^2$)');\nplt.legend(loc='best');",
      "execution_count": null,
      "outputs": []
    },
    {
      "metadata": {
        "trusted": true
      },
      "cell_type": "code",
      "source": "# Cell and module temperature\nmc.cell_temperature.plot(figsize=(20,15));\nplt.ylabel('Cell Temperature (C)');",
      "execution_count": null,
      "outputs": []
    },
    {
      "metadata": {},
      "cell_type": "markdown",
      "source": "## MC DC Power"
    },
    {
      "metadata": {
        "trusted": true
      },
      "cell_type": "code",
      "source": "mc.dc.fillna(0).plot(figsize=(20,15));\nplt.ylim(0, None);\nplt.ylabel('DC Power (W)');\nplt.xlabel('Forecast Time ({})'.format(tz));",
      "execution_count": null,
      "outputs": []
    },
    {
      "metadata": {
        "trusted": true
      },
      "cell_type": "code",
      "source": "mc.dc.describe()",
      "execution_count": null,
      "outputs": []
    },
    {
      "metadata": {
        "trusted": true
      },
      "cell_type": "code",
      "source": "mc.dc.fillna(0).to_csv('HRRR DC June 17 New.csv', encoding='utf-8')",
      "execution_count": null,
      "outputs": []
    },
    {
      "metadata": {},
      "cell_type": "markdown",
      "source": "## MC AC Power"
    },
    {
      "metadata": {
        "trusted": true
      },
      "cell_type": "code",
      "source": "# AC Power\nmc.ac.fillna(0).plot(figsize=(20,15));\nplt.ylim(0, None);\nplt.ylabel('AC Power (W)');\nplt.xlabel('Forecast Time ({})'.format(tz));",
      "execution_count": null,
      "outputs": []
    },
    {
      "metadata": {
        "trusted": true
      },
      "cell_type": "code",
      "source": "mc.ac.describe()",
      "execution_count": null,
      "outputs": []
    },
    {
      "metadata": {
        "trusted": true
      },
      "cell_type": "code",
      "source": "mc.ac.fillna(0)",
      "execution_count": null,
      "outputs": []
    },
    {
      "metadata": {
        "trusted": true
      },
      "cell_type": "code",
      "source": "mc.ac.fillna(0).to_csv('HRRR AC June 17 New.csv', encoding='utf-8')",
      "execution_count": null,
      "outputs": []
    },
    {
      "metadata": {},
      "cell_type": "markdown",
      "source": "### HRRR Irradiance Data"
    },
    {
      "metadata": {
        "trusted": true
      },
      "cell_type": "code",
      "source": "hrrr_data",
      "execution_count": null,
      "outputs": []
    },
    {
      "metadata": {
        "trusted": true
      },
      "cell_type": "code",
      "source": "hrrr_data.to_csv('HRRR June 17 New.csv', encoding='utf-8')",
      "execution_count": null,
      "outputs": []
    },
    {
      "metadata": {
        "trusted": true
      },
      "cell_type": "markdown",
      "source": "# PV Power Forecast - NDFD"
    },
    {
      "metadata": {
        "trusted": true
      },
      "cell_type": "code",
      "source": "from pvlib.pvsystem import PVSystem, retrieve_sam\nfrom pvlib.temperature import TEMPERATURE_MODEL_PARAMETERS\nfrom pvlib.tracking import SingleAxisTracker\nfrom pvlib.modelchain import ModelChain\nfrom pvlib import pvsystem\n\nsandia_modules = retrieve_sam('sandiamod')\ncec_inverters = retrieve_sam('cecinverter')\nmodule = sandia_modules['Canadian_Solar_CS5P_220M___2009_']\ninverter = cec_inverters['iPower__SHO_5_2__240V_']\ntemperature_model_parameters = TEMPERATURE_MODEL_PARAMETERS['sapm']['open_rack_glass_glass']\n\n# model a big tracker for more fun\nsystem = pvsystem.PVSystem(module_parameters=module, inverter_parameters=inverter, temperature_model_parameters=temperature_model_parameters, modules_per_string=14, strings_per_inverter=1)\n\n# fx is a common abbreviation for forecast\nfx_model = NDFD()\nfx_data = fx_model.get_processed_data(latitude, longitude, start, end)\nac_data = fx_data.resample('5min').interpolate()\n\n# use a ModelChain object to calculate modeling intermediates\nmc = ModelChain(system, fx_model.location)\n\n# extract relevant data for model chain\nmc.run_model(ac_data)",
      "execution_count": null,
      "outputs": []
    },
    {
      "metadata": {},
      "cell_type": "markdown",
      "source": "## ModelChain Attributes"
    },
    {
      "metadata": {
        "trusted": true
      },
      "cell_type": "code",
      "source": "# ModelChain sotres modeling results on a series of attributes. \n# Angle of Incidence\nmc.aoi.fillna(0).plot(figsize=(20,15));\nplt.ylim(0, None);\nplt.ylabel('Angle');",
      "execution_count": null,
      "outputs": []
    },
    {
      "metadata": {},
      "cell_type": "markdown",
      "source": "## Modeling intermediates & Forecast power"
    },
    {
      "metadata": {
        "trusted": true
      },
      "cell_type": "code",
      "source": "mc.total_irrad.plot(figsize=(25,20));\nplt.ylabel('Plane of array irradiance ($W/m^2$)');\nplt.legend(loc='best');",
      "execution_count": null,
      "outputs": []
    },
    {
      "metadata": {
        "trusted": true
      },
      "cell_type": "code",
      "source": "# Cell and module temperature\nmc.cell_temperature.plot(figsize=(20,15));\nplt.ylabel('Cell Temperature (C)');",
      "execution_count": null,
      "outputs": []
    },
    {
      "metadata": {},
      "cell_type": "markdown",
      "source": "## MC DC Power"
    },
    {
      "metadata": {
        "trusted": true
      },
      "cell_type": "code",
      "source": "mc.dc.fillna(0).plot(figsize=(20,15));\nplt.ylim(0, None);\nplt.ylabel('DC Power (W)');\nplt.xlabel('Forecast Time ({})'.format(tz));",
      "execution_count": null,
      "outputs": []
    },
    {
      "metadata": {
        "trusted": true
      },
      "cell_type": "code",
      "source": "mc.dc.describe()",
      "execution_count": null,
      "outputs": []
    },
    {
      "metadata": {
        "trusted": true
      },
      "cell_type": "code",
      "source": "mc.dc.fillna(0).to_csv('NDFD DC June 17 New.csv', encoding='utf-8')",
      "execution_count": null,
      "outputs": []
    },
    {
      "metadata": {},
      "cell_type": "markdown",
      "source": "## MC AC Power"
    },
    {
      "metadata": {
        "trusted": true
      },
      "cell_type": "code",
      "source": "# AC Power\nmc.ac.fillna(0).plot(figsize=(20,15));\nplt.ylim(0, None);\nplt.ylabel('AC Power (W)');\nplt.xlabel('Forecast Time ({})'.format(tz));",
      "execution_count": null,
      "outputs": []
    },
    {
      "metadata": {
        "trusted": true
      },
      "cell_type": "code",
      "source": "mc.ac.describe()",
      "execution_count": null,
      "outputs": []
    },
    {
      "metadata": {
        "trusted": true
      },
      "cell_type": "code",
      "source": "mc.ac.fillna(0).to_csv('NDFD AC June 17 New.csv', encoding='utf-8')",
      "execution_count": null,
      "outputs": []
    },
    {
      "metadata": {},
      "cell_type": "markdown",
      "source": "### NDFD Irradiance Data"
    },
    {
      "metadata": {
        "trusted": true
      },
      "cell_type": "code",
      "source": "ndfd_data",
      "execution_count": null,
      "outputs": []
    },
    {
      "metadata": {
        "trusted": true
      },
      "cell_type": "code",
      "source": "ndfd_data.to_csv('NDFD June 17 New.csv', encoding='utf-8')",
      "execution_count": null,
      "outputs": []
    },
    {
      "metadata": {
        "trusted": true
      },
      "cell_type": "code",
      "source": "",
      "execution_count": null,
      "outputs": []
    }
  ],
  "metadata": {
    "kernelspec": {
      "name": "python36",
      "display_name": "Python 3.6",
      "language": "python"
    },
    "language_info": {
      "mimetype": "text/x-python",
      "nbconvert_exporter": "python",
      "name": "python",
      "pygments_lexer": "ipython3",
      "version": "3.6.6",
      "file_extension": ".py",
      "codemirror_mode": {
        "version": 3,
        "name": "ipython"
      }
    }
  },
  "nbformat": 4,
  "nbformat_minor": 2
}