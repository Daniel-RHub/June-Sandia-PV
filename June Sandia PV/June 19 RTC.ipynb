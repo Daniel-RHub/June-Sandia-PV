{
  "cells": [
    {
      "metadata": {
        "collapsed": true
      },
      "cell_type": "markdown",
      "source": "# RTC System Data\n## Import Libraries"
    },
    {
      "metadata": {
        "trusted": true
      },
      "cell_type": "code",
      "source": "# Upgrade command\n!pip install --upgrade pip\n\n# Install Requests\n!pip install requests",
      "execution_count": 1,
      "outputs": [
        {
          "output_type": "stream",
          "text": "Collecting pip\n\u001b[?25l  Downloading https://files.pythonhosted.org/packages/43/84/23ed6a1796480a6f1a2d38f2802901d078266bda38388954d01d3f2e821d/pip-20.1.1-py2.py3-none-any.whl (1.5MB)\n\u001b[K     |████████████████████████████████| 1.5MB 97kB/s  eta 0:00:01     |██████████████████████▋         | 1.1MB 602kB/s eta 0:00:01\n\u001b[?25hInstalling collected packages: pip\n  Found existing installation: pip 19.3.1\n    Uninstalling pip-19.3.1:\n      Successfully uninstalled pip-19.3.1\nSuccessfully installed pip-20.1.1\nRequirement already satisfied: requests in /home/nbuser/anaconda3_501/lib/python3.6/site-packages (2.22.0)\nRequirement already satisfied: idna<2.9,>=2.5 in /home/nbuser/anaconda3_501/lib/python3.6/site-packages (from requests) (2.7)\nRequirement already satisfied: urllib3!=1.25.0,!=1.25.1,<1.26,>=1.21.1 in /home/nbuser/anaconda3_501/lib/python3.6/site-packages (from requests) (1.23)\nRequirement already satisfied: certifi>=2017.4.17 in /home/nbuser/anaconda3_501/lib/python3.6/site-packages (from requests) (2018.10.15)\nRequirement already satisfied: chardet<3.1.0,>=3.0.2 in /home/nbuser/anaconda3_501/lib/python3.6/site-packages (from requests) (3.0.4)\n",
          "name": "stdout"
        }
      ]
    },
    {
      "metadata": {
        "trusted": true
      },
      "cell_type": "code",
      "source": "# Imports\nimport pandas as pd\nimport numpy as np\nimport matplotlib.pyplot as plt\nimport matplotlib as mpl\nimport seaborn as sns \nimport json\nimport requests\nimport datetime\nimport time\n\nfrom sklearn.linear_model import LinearRegression\nfrom sklearn.model_selection import train_test_split\nfrom sklearn.pipeline import Pipeline\nfrom sklearn.preprocessing import StandardScaler,PolynomialFeatures\nfrom sklearn.linear_model import Ridge\nfrom sklearn.preprocessing import PolynomialFeatures\nfrom collections import namedtuple\nfrom datetime import datetime\nfrom sklearn.metrics import mean_squared_error\nfrom math import sqrt\nfrom matplotlib.pyplot import figure",
      "execution_count": 5,
      "outputs": []
    },
    {
      "metadata": {},
      "cell_type": "markdown",
      "source": "### Latitude, Longitude & TZ"
    },
    {
      "metadata": {
        "trusted": true
      },
      "cell_type": "code",
      "source": "# Specify Location (Albuquerque, NM)\nlatitude, longitude, tz = 35, -106.6, 'US/Mountain'",
      "execution_count": 6,
      "outputs": []
    },
    {
      "metadata": {},
      "cell_type": "markdown",
      "source": "## Accessing API with Pandas\n### Weather and System Data"
    },
    {
      "metadata": {
        "trusted": true
      },
      "cell_type": "code",
      "source": "# Get Weather Data from URL - June 19\nURL = \"https://pv-dashboard.sandia.gov/api/v1.0/location/Albuquerque/data/weather/start/2020-06-19/end/2020-06-20/key/ZhWJxS48oMpRm1\"\n\nresponse = requests.get(url=URL)\nweather_df = pd.DataFrame(response.json())\nweather_df.head()",
      "execution_count": 7,
      "outputs": [
        {
          "output_type": "execute_result",
          "execution_count": 7,
          "data": {
            "text/html": "<div>\n<style scoped>\n    .dataframe tbody tr th:only-of-type {\n        vertical-align: middle;\n    }\n\n    .dataframe tbody tr th {\n        vertical-align: top;\n    }\n\n    .dataframe thead th {\n        text-align: right;\n    }\n</style>\n<table border=\"1\" class=\"dataframe\">\n  <thead>\n    <tr style=\"text-align: right;\">\n      <th></th>\n    </tr>\n  </thead>\n  <tbody>\n  </tbody>\n</table>\n</div>",
            "text/plain": "Empty DataFrame\nColumns: []\nIndex: []"
          },
          "metadata": {}
        }
      ]
    },
    {
      "metadata": {
        "trusted": true
      },
      "cell_type": "code",
      "source": "# Drop unnecessary data\nweather_df.drop(['RainDailyAccumilation', 'RelativeHumidity', 'WindDirection', 'WindSpeed'], axis=1, inplace=True)\n\nweather_df.head()",
      "execution_count": null,
      "outputs": []
    },
    {
      "metadata": {
        "trusted": true
      },
      "cell_type": "code",
      "source": "weather_df.rename(columns={'TmStamp':'TimeStamp', 'GlobalIrrad':'GHI', 'DirectIrrad':'DNI', 'DiffuseIrrad':'DHI'}, inplace=True)",
      "execution_count": null,
      "outputs": []
    },
    {
      "metadata": {
        "trusted": true
      },
      "cell_type": "code",
      "source": "weather_df.head()",
      "execution_count": null,
      "outputs": []
    },
    {
      "metadata": {
        "trusted": true
      },
      "cell_type": "code",
      "source": "# Examine the types of the column labels\nall(isinstance(column, str) for column in weather_df.columns)",
      "execution_count": null,
      "outputs": []
    },
    {
      "metadata": {
        "trusted": true
      },
      "cell_type": "code",
      "source": "weather_df['TimeStamp'] =  pd.to_datetime(weather_df['TimeStamp']/1000, unit='s')\nweather_df.head()",
      "execution_count": null,
      "outputs": []
    },
    {
      "metadata": {
        "trusted": true
      },
      "cell_type": "code",
      "source": "system_df.drop(system_df.index[range(0, 250)], axis=0, inplace=True)",
      "execution_count": null,
      "outputs": []
    },
    {
      "metadata": {
        "trusted": true
      },
      "cell_type": "code",
      "source": "# TimeStamp as Index\nweather_df.set_index('TimeStamp', inplace=True)\nweather_df.head()",
      "execution_count": null,
      "outputs": []
    },
    {
      "metadata": {
        "trusted": true
      },
      "cell_type": "code",
      "source": "# Weather Keys\nprint(\"Keys of weather_df: \\n{}\".format(weather_df.keys()))",
      "execution_count": null,
      "outputs": []
    },
    {
      "metadata": {
        "trusted": true
      },
      "cell_type": "code",
      "source": "# Analyzing Data - June 16\n# Global Horizonal & Direct Normal(W/m*2)\n# Air Temperature (deg C)\nweather_df.describe()",
      "execution_count": null,
      "outputs": []
    },
    {
      "metadata": {
        "trusted": true
      },
      "cell_type": "code",
      "source": "weather_df_slice = weather_df.iloc[::5] ",
      "execution_count": null,
      "outputs": []
    },
    {
      "metadata": {},
      "cell_type": "markdown",
      "source": "## System"
    },
    {
      "metadata": {
        "trusted": true
      },
      "cell_type": "code",
      "source": "# Get System Data from URL - June 16\nURL = \"https://pv-dashboard.sandia.gov/api/v1.0/location/Albuquerque/data/system/start/2020-06-10/end/2020-06-11/key/ZhWJxS48oMpRm1\"\n\nresponse = requests.get(url=URL)\nsystem_df = pd.DataFrame(response.json())\nsystem_df.head()",
      "execution_count": null,
      "outputs": []
    },
    {
      "metadata": {
        "trusted": true
      },
      "cell_type": "code",
      "source": "# System Keys\nprint(\"Keys of system_df: \\n{}\".format(system_df.keys()))",
      "execution_count": null,
      "outputs": []
    },
    {
      "metadata": {
        "trusted": true
      },
      "cell_type": "code",
      "source": "system_df.rename(columns={'TmStamp':'TimeStamp'}, inplace=True)",
      "execution_count": null,
      "outputs": []
    },
    {
      "metadata": {
        "trusted": true
      },
      "cell_type": "code",
      "source": "system_df.head()",
      "execution_count": null,
      "outputs": []
    },
    {
      "metadata": {
        "trusted": true
      },
      "cell_type": "code",
      "source": "system_df.tail()",
      "execution_count": null,
      "outputs": []
    },
    {
      "metadata": {
        "trusted": true
      },
      "cell_type": "code",
      "source": "# Examine the types of the column labels\nall(isinstance(column, str) for column in system_df.columns)",
      "execution_count": null,
      "outputs": []
    },
    {
      "metadata": {
        "trusted": true
      },
      "cell_type": "code",
      "source": "system_df['TimeStamp'] =  pd.to_datetime(system_df['TimeStamp']/1000, unit='s')\nsystem_df.head()",
      "execution_count": null,
      "outputs": []
    },
    {
      "metadata": {
        "trusted": true
      },
      "cell_type": "code",
      "source": "system_df.drop(system_df.index[range(0, 300)], axis=0, inplace=True)",
      "execution_count": null,
      "outputs": []
    },
    {
      "metadata": {
        "trusted": true
      },
      "cell_type": "code",
      "source": "# TimeStamp as Index\nsystem_df.set_index('TimeStamp', inplace=True)\nsystem_df.head()",
      "execution_count": null,
      "outputs": []
    },
    {
      "metadata": {
        "trusted": true
      },
      "cell_type": "code",
      "source": "# Analyzing Data\nsystem_df.describe()",
      "execution_count": null,
      "outputs": []
    },
    {
      "metadata": {
        "trusted": true
      },
      "cell_type": "code",
      "source": "system_df_slice = system_df.iloc[::5] ",
      "execution_count": null,
      "outputs": []
    },
    {
      "metadata": {
        "trusted": true
      },
      "cell_type": "code",
      "source": "system_df_slice.head()",
      "execution_count": null,
      "outputs": []
    },
    {
      "metadata": {
        "trusted": true
      },
      "cell_type": "code",
      "source": "system_df_slice.describe()",
      "execution_count": null,
      "outputs": []
    },
    {
      "metadata": {},
      "cell_type": "markdown",
      "source": "# Weather and System Plot\n## Weather June 19"
    },
    {
      "metadata": {
        "trusted": true
      },
      "cell_type": "code",
      "source": "# Plot GHI\nirrad_var = ['GHI']\nweather_df[irrad_var].plot(figsize=(20,10));\nplt.ylabel('Irradiance (W/m2)',size=20);\nplt.xlabel('RTCST ({})'.format(tz),size=20);\nplt.title('RTCST data for lat={}, lon={}'.format(latitude, longitude),size=30);\nplt.legend(prop={'size': 20});",
      "execution_count": null,
      "outputs": []
    },
    {
      "metadata": {
        "trusted": true
      },
      "cell_type": "code",
      "source": "# Plot GHI\nirrad_var = ['GHI']\nweather_df_slice[irrad_var].plot(figsize=(20,10));\nplt.ylabel('Irradiance (W/m2)',size=20);\nplt.xlabel('RTCST ({})'.format(tz),size=20);\nplt.title('RTCST data for lat={}, lon={}'.format(latitude, longitude),size=30);\nplt.legend(prop={'size': 20});",
      "execution_count": null,
      "outputs": []
    },
    {
      "metadata": {},
      "cell_type": "markdown",
      "source": "## System PIV June 19"
    },
    {
      "metadata": {
        "trusted": true
      },
      "cell_type": "code",
      "source": "# Plot AC Power Output\nsys1i_var = ['Sys1Wac']\nsystem_df[sys1i_var].plot(figsize=(20,10));\nplt.ylabel('AC Power (Watt)',size=20);\nplt.xlabel('RTCST ({})'.format(tz),size=20);\nplt.title('RTCST data for lat={}, lon={}'.format(latitude, longitude),size=30);\nplt.legend(prop={'size': 20});",
      "execution_count": null,
      "outputs": []
    },
    {
      "metadata": {
        "trusted": true
      },
      "cell_type": "code",
      "source": "# Plot AC Power Output\nsys1i_var = ['Sys1Wac']\nsystem_df_slice[sys1i_var].plot(figsize=(20,10));\nplt.ylabel('AC Power (Watt)',size=20);\nplt.xlabel('RTCST ({})'.format(tz),size=20);\nplt.title('RTCST data for lat={}, lon={}'.format(latitude, longitude),size=30);\nplt.legend(prop={'size': 20});",
      "execution_count": null,
      "outputs": []
    },
    {
      "metadata": {
        "trusted": true
      },
      "cell_type": "code",
      "source": "# Plot DC Current\nsys1i_var = ['Sys1Idc']\nsystem_df[sys1i_var].plot(figsize=(20,10));\nplt.ylabel('DC Curernt (Amp)',size=20);\nplt.xlabel('RTCST ({})'.format(tz),size=20);\nplt.title('RTCST data for lat={}, lon={}'.format(latitude, longitude),size=30);\nplt.legend(prop={'size': 20});",
      "execution_count": null,
      "outputs": []
    },
    {
      "metadata": {
        "trusted": true
      },
      "cell_type": "code",
      "source": "# Plot DC Current\nsys1i_var = ['Sys1Idc']\nsystem_df_slice[sys1i_var].plot(figsize=(20,10));\nplt.ylabel('DC Curernt (Amp)',size=20);\nplt.xlabel('RTCST ({})'.format(tz),size=20);\nplt.title('RTCST data for lat={}, lon={}'.format(latitude, longitude),size=30);\nplt.legend(prop={'size': 20});",
      "execution_count": null,
      "outputs": []
    },
    {
      "metadata": {
        "trusted": true
      },
      "cell_type": "code",
      "source": "# Plot DC Voltage\nsys1v_var = ['Sys1Vdc']\nsystem_df[sys1v_var].plot(figsize=(20,10));\nplt.ylabel('DC Voltage (Volt)',size=20);\nplt.xlabel('RTCST ({})'.format(tz),size=20);\nplt.title('RTCST data for lat={}, lon={}'.format(latitude, longitude),size=30);\nplt.legend(prop={'size': 20});",
      "execution_count": null,
      "outputs": []
    },
    {
      "metadata": {
        "trusted": true
      },
      "cell_type": "code",
      "source": "# Plot DC Voltage\nsys1v_var = ['Sys1Vdc']\nsystem_df_slice[sys1v_var].plot(figsize=(20,10));\nplt.ylabel('DC Voltage (Volt)',size=20);\nplt.xlabel('RTCST ({})'.format(tz),size=20);\nplt.title('RTCST data for lat={}, lon={}'.format(latitude, longitude),size=30);\nplt.legend(prop={'size': 20});",
      "execution_count": null,
      "outputs": []
    },
    {
      "metadata": {
        "trusted": true
      },
      "cell_type": "markdown",
      "source": "## Read CSV's"
    },
    {
      "metadata": {
        "trusted": true
      },
      "cell_type": "code",
      "source": "# Read HRRR Irradiance CSV\nhrrr_df = pd.read_csv('HRRR June 16.csv')\nprint(\"Keys of hrrr_df: \\n{}\".format(hrrr_df.keys()))",
      "execution_count": null,
      "outputs": []
    },
    {
      "metadata": {
        "trusted": true
      },
      "cell_type": "code",
      "source": "hrrr_df.describe()",
      "execution_count": null,
      "outputs": []
    },
    {
      "metadata": {
        "trusted": true
      },
      "cell_type": "code",
      "source": "hrrr_df.head()",
      "execution_count": null,
      "outputs": []
    },
    {
      "metadata": {
        "trusted": true
      },
      "cell_type": "code",
      "source": "# Read Forecast AC Power CSV\nac_df = pd.read_csv('AC June 16.csv')\nprint(\"Keys of ac_df: \\n{}\".format(ac_df.keys()))",
      "execution_count": null,
      "outputs": []
    },
    {
      "metadata": {
        "trusted": true
      },
      "cell_type": "code",
      "source": "ac_df.head()",
      "execution_count": null,
      "outputs": []
    },
    {
      "metadata": {
        "trusted": true
      },
      "cell_type": "code",
      "source": "# TimeStamp as Index\nac_df.set_index('2020-06-15 06:00:00-06:00', inplace=True)\nac_df.head()",
      "execution_count": null,
      "outputs": []
    },
    {
      "metadata": {
        "trusted": true
      },
      "cell_type": "code",
      "source": "ac_df.rename(columns={'-1.56':'AC Power'}, inplace=True)\nac_df.head()",
      "execution_count": null,
      "outputs": []
    },
    {
      "metadata": {
        "trusted": true
      },
      "cell_type": "code",
      "source": "ac_df.describe()",
      "execution_count": null,
      "outputs": []
    },
    {
      "metadata": {
        "trusted": true
      },
      "cell_type": "code",
      "source": "# Plot AC Power\nforecast_ac = ['AC Power']\nac_df[forecast_ac].plot(figsize=(20,10), label = 'AC Power');\nplt.ylabel('AC Power (Watt)',size=20);\nplt.xlabel('Forecast Time ({})'.format(tz),size=20);\nplt.title('Forecasted data for lat={}, lon={}'.format(latitude, longitude),size=30);\nplt.legend(prop={'size': 20});",
      "execution_count": null,
      "outputs": []
    },
    {
      "metadata": {
        "trusted": true
      },
      "cell_type": "code",
      "source": "# Read Forecast DC Power CSV\ndc_df = pd.read_csv('DC June 16.csv')\nprint(\"Keys of dc_df: \\n{}\".format(dc_df.keys()))",
      "execution_count": null,
      "outputs": []
    },
    {
      "metadata": {
        "trusted": true
      },
      "cell_type": "code",
      "source": "dc_df.describe()",
      "execution_count": null,
      "outputs": []
    },
    {
      "metadata": {
        "trusted": true
      },
      "cell_type": "code",
      "source": "dc_df.head()",
      "execution_count": null,
      "outputs": []
    },
    {
      "metadata": {},
      "cell_type": "markdown",
      "source": "### Merge DataFrames"
    },
    {
      "metadata": {
        "trusted": true
      },
      "cell_type": "code",
      "source": "# Clear Index\nac_df=ac_df.reset_index()\nsystem_df_slice=system_df_slice.reset_index()",
      "execution_count": null,
      "outputs": []
    },
    {
      "metadata": {
        "trusted": true
      },
      "cell_type": "code",
      "source": "ac_df.head()",
      "execution_count": null,
      "outputs": []
    },
    {
      "metadata": {
        "trusted": true
      },
      "cell_type": "code",
      "source": "system_df_slice.head()",
      "execution_count": null,
      "outputs": []
    },
    {
      "metadata": {
        "trusted": true
      },
      "cell_type": "code",
      "source": "# I guess it will make plotting easier\nsystem=system_df_slice['Sys1Wac']\nac_df['System']=system\nac_df.head()",
      "execution_count": null,
      "outputs": []
    },
    {
      "metadata": {
        "trusted": true
      },
      "cell_type": "code",
      "source": "# TimeStamp as Index\nac_df.set_index('2020-06-15 06:00:00-06:00', inplace=True)\nac_df.head()",
      "execution_count": null,
      "outputs": []
    },
    {
      "metadata": {
        "trusted": true
      },
      "cell_type": "code",
      "source": "# Examine the column labels\nall(isinstance(column, str) for column in ac_df.columns)",
      "execution_count": null,
      "outputs": []
    },
    {
      "metadata": {
        "trusted": true
      },
      "cell_type": "code",
      "source": "plt.figure(figsize=(16,12))\nplt.ylabel('AC Power (Watt)',size=20);\nplt.xlabel('Time ({})'.format(tz),size=20);\nplt.title('Power Output for lat={}, lon={}'.format(latitude, longitude),size=30);\nplt.plot('AC Power', data=ac_df, marker='', color='blue', linewidth=2);\nplt.plot('System', data=ac_df, marker='', color='red', linewidth=2);\nplt.legend();",
      "execution_count": null,
      "outputs": []
    },
    {
      "metadata": {
        "trusted": true
      },
      "cell_type": "markdown",
      "source": "## Error\n### Mean Square Error"
    },
    {
      "metadata": {
        "trusted": true
      },
      "cell_type": "code",
      "source": "y_true= system_df_slice['Sys1Wac']\ny_pred= ac_df['AC Power']\nprint('Mean Square Error:\\n',mean_squared_error(y_true, y_pred))",
      "execution_count": null,
      "outputs": []
    }
  ],
  "metadata": {
    "kernelspec": {
      "name": "python36",
      "display_name": "Python 3.6",
      "language": "python"
    },
    "language_info": {
      "mimetype": "text/x-python",
      "nbconvert_exporter": "python",
      "name": "python",
      "pygments_lexer": "ipython3",
      "version": "3.6.6",
      "file_extension": ".py",
      "codemirror_mode": {
        "version": 3,
        "name": "ipython"
      }
    }
  },
  "nbformat": 4,
  "nbformat_minor": 2
}